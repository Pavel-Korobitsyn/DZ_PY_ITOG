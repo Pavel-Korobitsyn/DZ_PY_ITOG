{
 "cells": [
  {
   "cell_type": "code",
   "execution_count": 3,
   "id": "3ce0c5f2",
   "metadata": {},
   "outputs": [],
   "source": [
    "import pandas as pd"
   ]
  },
  {
   "cell_type": "code",
   "execution_count": 5,
   "id": "be28c7cc",
   "metadata": {},
   "outputs": [],
   "source": [
    "data_f = pd.read_csv('train(2).csv')"
   ]
  },
  {
   "cell_type": "code",
   "execution_count": 7,
   "id": "c43d2505",
   "metadata": {},
   "outputs": [
    {
     "name": "stdout",
     "output_type": "stream",
     "text": [
      "Количество мужчин и женщин на карабле\n",
      "male      577\n",
      "female    314\n",
      "Name: Sex, dtype: int64\n"
     ]
    }
   ],
   "source": [
    "print(f\"Количество мужчин и женщин на карабле\\n{data_f.Sex.value_counts()}\")"
   ]
  },
  {
   "cell_type": "code",
   "execution_count": 38,
   "id": "42bf758c",
   "metadata": {
    "scrolled": false
   },
   "outputs": [
    {
     "name": "stdout",
     "output_type": "stream",
     "text": [
      "Самый молодой пассажир: 0\n"
     ]
    }
   ],
   "source": [
    "print(f\"Возраст самого молодого пассажира: {round(data_f.Age.min())}\")"
   ]
  },
  {
   "cell_type": "code",
   "execution_count": 39,
   "id": "3173eec9",
   "metadata": {},
   "outputs": [
    {
     "name": "stdout",
     "output_type": "stream",
     "text": [
      "Возраст самого старого пассажира: 80\n"
     ]
    }
   ],
   "source": [
    "print(f\"Возраст самого старого пассажира: {round(data_f.Age.max())}\")"
   ]
  },
  {
   "cell_type": "code",
   "execution_count": 34,
   "id": "8e7031fc",
   "metadata": {
    "scrolled": true
   },
   "outputs": [
    {
     "name": "stdout",
     "output_type": "stream",
     "text": [
      "Средний возраст пассажиров: 29.7\n"
     ]
    }
   ],
   "source": [
    "print(f\"Средний возраст пассажиров: {round(data_f.Age.mean(),2)}\")"
   ]
  },
  {
   "cell_type": "code",
   "execution_count": 8,
   "id": "4373c64a",
   "metadata": {},
   "outputs": [
    {
     "name": "stdout",
     "output_type": "stream",
     "text": [
      "Доля пассажиров 1 класса: 24.24\n"
     ]
    }
   ],
   "source": [
    "data_f['FirstClassCounter'] = 0\n",
    "mask=data_f.Pclass == 1\n",
    "data_f.loc[mask,'FirstClassCounter']=1\n",
    "_firstClassCounter=data_f.FirstClassCounter.sum()\n",
    "print(f\"Доля пассажиров 1 класса: {round(_firstClassCounter/onePercentTotal,2)}\")"
   ]
  },
  {
   "cell_type": "code",
   "execution_count": 30,
   "id": "a17e2ebd",
   "metadata": {},
   "outputs": [
    {
     "name": "stdout",
     "output_type": "stream",
     "text": [
      "Количество детей: 113\n"
     ]
    }
   ],
   "source": [
    "data_f['Baby'] = 0\n",
    "baby = data_f.Age < 18\n",
    "data_f.loc[baby,'Baby']=1\n",
    "_baby = data_f.Baby.sum()\n",
    "print(f\"Количество детей: {_baby}\")"
   ]
  },
  {
   "cell_type": "code",
   "execution_count": 24,
   "id": "ac4291ba",
   "metadata": {},
   "outputs": [
    {
     "name": "stdout",
     "output_type": "stream",
     "text": [
      "Количество пасажиров без братьев и сестёр: 608\n"
     ]
    }
   ],
   "source": [
    "sibsp = data_f.SibSp == 0\n",
    "print(f\"Количество пасажиров без братьев и сестёр: {sibsp.sum()}\")"
   ]
  },
  {
   "cell_type": "code",
   "execution_count": 26,
   "id": "a5c5fead",
   "metadata": {},
   "outputs": [
    {
     "name": "stdout",
     "output_type": "stream",
     "text": [
      "Количетсво пасажиров, которые ехали с детьми: 213\n"
     ]
    }
   ],
   "source": [
    "parch = data_f.Parch > 0 \n",
    "print(f\"Количетсво пасажиров, которые ехали с детьми: {parch.sum()}\")"
   ]
  },
  {
   "cell_type": "code",
   "execution_count": 29,
   "id": "64371919",
   "metadata": {},
   "outputs": [
    {
     "name": "stdout",
     "output_type": "stream",
     "text": [
      "Количество пасажиров отправившихся из порта. (C — Шербур; Q — Квинстаун; S — Саутгемптон)\n",
      "S    644\n",
      "C    168\n",
      "Q     77\n",
      "Name: Embarked, dtype: int64\n"
     ]
    }
   ],
   "source": [
    "print(f\"Количество пасажиров отправившихся из порта. (C — Шербур; Q — Квинстаун; S — Саутгемптон)\\n{data_f.Embarked.value_counts()}\")"
   ]
  },
  {
   "cell_type": "code",
   "execution_count": 45,
   "id": "e2d08c7e",
   "metadata": {
    "scrolled": false
   },
   "outputs": [
    {
     "name": "stdout",
     "output_type": "stream",
     "text": [
      "Стоимость самого дорого билета: 512.3292\n"
     ]
    }
   ],
   "source": [
    "print(f\"Стоимость самого дорого билета: {data_f.Fare.max()}\")"
   ]
  },
  {
   "cell_type": "code",
   "execution_count": 52,
   "id": "986981af",
   "metadata": {},
   "outputs": [
    {
     "name": "stdout",
     "output_type": "stream",
     "text": [
      "Самая вместительная каюта 4 человека\n"
     ]
    }
   ],
   "source": [
    "print(f\"Самая вместительная каюта {data_f.Cabin.value_counts().max()} человека\")"
   ]
  },
  {
   "cell_type": "code",
   "execution_count": null,
   "id": "770812f9",
   "metadata": {},
   "outputs": [],
   "source": []
  }
 ],
 "metadata": {
  "kernelspec": {
   "display_name": "Python 3 (ipykernel)",
   "language": "python",
   "name": "python3"
  },
  "language_info": {
   "codemirror_mode": {
    "name": "ipython",
    "version": 3
   },
   "file_extension": ".py",
   "mimetype": "text/x-python",
   "name": "python",
   "nbconvert_exporter": "python",
   "pygments_lexer": "ipython3",
   "version": "3.9.13"
  }
 },
 "nbformat": 4,
 "nbformat_minor": 5
}
